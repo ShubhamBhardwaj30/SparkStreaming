{
 "cells": [
  {
   "cell_type": "code",
   "execution_count": 6,
   "id": "1de517b6-adbb-46d3-9c18-f43789bce7a2",
   "metadata": {},
   "outputs": [
    {
     "name": "stdout",
     "output_type": "stream",
     "text": [
      "Hello World\n"
     ]
    }
   ],
   "source": [
    "print(\"Hello World\")"
   ]
  },
  {
   "cell_type": "code",
   "execution_count": 1,
   "id": "dc160799-5e89-4b6c-8d37-fcb9039b8551",
   "metadata": {},
   "outputs": [
    {
     "ename": "KafkaTimeoutError",
     "evalue": "KafkaTimeoutError: Failed to update metadata after 60.0 secs.",
     "output_type": "error",
     "traceback": [
      "\u001b[0;31m---------------------------------------------------------------------------\u001b[0m",
      "\u001b[0;31mKafkaTimeoutError\u001b[0m                         Traceback (most recent call last)",
      "Cell \u001b[0;32mIn[1], line 7\u001b[0m\n\u001b[1;32m      4\u001b[0m producer \u001b[38;5;241m=\u001b[39m KafkaProducer(bootstrap_servers\u001b[38;5;241m=\u001b[39m\u001b[38;5;124m'\u001b[39m\u001b[38;5;124mbroker:9092\u001b[39m\u001b[38;5;124m'\u001b[39m)\n\u001b[1;32m      6\u001b[0m \u001b[38;5;66;03m# Send a message to the 'analytics' topic\u001b[39;00m\n\u001b[0;32m----> 7\u001b[0m \u001b[43mproducer\u001b[49m\u001b[38;5;241;43m.\u001b[39;49m\u001b[43msend\u001b[49m\u001b[43m(\u001b[49m\u001b[38;5;124;43m'\u001b[39;49m\u001b[38;5;124;43manalytics\u001b[39;49m\u001b[38;5;124;43m'\u001b[39;49m\u001b[43m,\u001b[49m\u001b[43m \u001b[49m\u001b[38;5;124;43mb\u001b[39;49m\u001b[38;5;124;43m'\u001b[39;49m\u001b[38;5;124;43mHello Kafka\u001b[39;49m\u001b[38;5;124;43m'\u001b[39;49m\u001b[43m)\u001b[49m\n\u001b[1;32m      9\u001b[0m \u001b[38;5;66;03m# Flush the producer to ensure all messages are sent\u001b[39;00m\n\u001b[1;32m     10\u001b[0m producer\u001b[38;5;241m.\u001b[39mflush()\n",
      "File \u001b[0;32m/opt/conda/lib/python3.11/site-packages/kafka/producer/kafka.py:617\u001b[0m, in \u001b[0;36mKafkaProducer.send\u001b[0;34m(self, topic, value, key, headers, partition, timestamp_ms)\u001b[0m\n\u001b[1;32m    615\u001b[0m \u001b[38;5;28;01mwhile\u001b[39;00m assigned_partition \u001b[38;5;129;01mis\u001b[39;00m \u001b[38;5;28;01mNone\u001b[39;00m \u001b[38;5;129;01mand\u001b[39;00m elapsed \u001b[38;5;241m<\u001b[39m timeout:\n\u001b[1;32m    616\u001b[0m     elapsed \u001b[38;5;241m=\u001b[39m time\u001b[38;5;241m.\u001b[39mtime() \u001b[38;5;241m-\u001b[39m begin\n\u001b[0;32m--> 617\u001b[0m     \u001b[38;5;28;43mself\u001b[39;49m\u001b[38;5;241;43m.\u001b[39;49m\u001b[43m_wait_on_metadata\u001b[49m\u001b[43m(\u001b[49m\u001b[43mtopic\u001b[49m\u001b[43m,\u001b[49m\u001b[43m \u001b[49m\u001b[43mtimeout\u001b[49m\u001b[43m \u001b[49m\u001b[38;5;241;43m-\u001b[39;49m\u001b[43m \u001b[49m\u001b[43melapsed\u001b[49m\u001b[43m)\u001b[49m\n\u001b[1;32m    619\u001b[0m     key_bytes \u001b[38;5;241m=\u001b[39m \u001b[38;5;28mself\u001b[39m\u001b[38;5;241m.\u001b[39m_serialize(\n\u001b[1;32m    620\u001b[0m         \u001b[38;5;28mself\u001b[39m\u001b[38;5;241m.\u001b[39mconfig[\u001b[38;5;124m'\u001b[39m\u001b[38;5;124mkey_serializer\u001b[39m\u001b[38;5;124m'\u001b[39m],\n\u001b[1;32m    621\u001b[0m         topic, key)\n\u001b[1;32m    622\u001b[0m     value_bytes \u001b[38;5;241m=\u001b[39m \u001b[38;5;28mself\u001b[39m\u001b[38;5;241m.\u001b[39m_serialize(\n\u001b[1;32m    623\u001b[0m         \u001b[38;5;28mself\u001b[39m\u001b[38;5;241m.\u001b[39mconfig[\u001b[38;5;124m'\u001b[39m\u001b[38;5;124mvalue_serializer\u001b[39m\u001b[38;5;124m'\u001b[39m],\n\u001b[1;32m    624\u001b[0m         topic, value)\n",
      "File \u001b[0;32m/opt/conda/lib/python3.11/site-packages/kafka/producer/kafka.py:743\u001b[0m, in \u001b[0;36mKafkaProducer._wait_on_metadata\u001b[0;34m(self, topic, max_wait)\u001b[0m\n\u001b[1;32m    741\u001b[0m metadata_event\u001b[38;5;241m.\u001b[39mwait(max_wait \u001b[38;5;241m-\u001b[39m elapsed)\n\u001b[1;32m    742\u001b[0m \u001b[38;5;28;01mif\u001b[39;00m \u001b[38;5;129;01mnot\u001b[39;00m metadata_event\u001b[38;5;241m.\u001b[39mis_set():\n\u001b[0;32m--> 743\u001b[0m     \u001b[38;5;28;01mraise\u001b[39;00m Errors\u001b[38;5;241m.\u001b[39mKafkaTimeoutError(\n\u001b[1;32m    744\u001b[0m         \u001b[38;5;124m\"\u001b[39m\u001b[38;5;124mFailed to update metadata after \u001b[39m\u001b[38;5;132;01m%.1f\u001b[39;00m\u001b[38;5;124m secs.\u001b[39m\u001b[38;5;124m\"\u001b[39m \u001b[38;5;241m%\u001b[39m (max_wait,))\n\u001b[1;32m    745\u001b[0m \u001b[38;5;28;01melif\u001b[39;00m topic \u001b[38;5;129;01min\u001b[39;00m \u001b[38;5;28mself\u001b[39m\u001b[38;5;241m.\u001b[39m_metadata\u001b[38;5;241m.\u001b[39munauthorized_topics:\n\u001b[1;32m    746\u001b[0m     \u001b[38;5;28;01mraise\u001b[39;00m Errors\u001b[38;5;241m.\u001b[39mTopicAuthorizationFailedError(\u001b[38;5;28mset\u001b[39m([topic]))\n",
      "\u001b[0;31mKafkaTimeoutError\u001b[0m: KafkaTimeoutError: Failed to update metadata after 60.0 secs."
     ]
    }
   ],
   "source": [
    "from kafka import KafkaProducer, KafkaConsumer\n",
    "\n",
    "# Connect to Kafka\n",
    "producer = KafkaProducer(bootstrap_servers='broker:9092')\n",
    "\n",
    "# Send a message to the 'analytics' topic\n",
    "producer.send('analytics', b'Hello Kafka')\n",
    "\n",
    "# Flush the producer to ensure all messages are sent\n",
    "producer.flush()\n",
    "\n",
    "# Close the producer\n",
    "producer.close()\n",
    "\n",
    "# To consume messages from the 'analytics' topic\n",
    "consumer = KafkaConsumer('analytics', bootstrap_servers='broker:9092')\n",
    "\n",
    "# Print messages from the consumer\n",
    "for message in consumer:\n",
    "    print(f\"Received message: {message.value.decode('utf-8')}\")"
   ]
  },
  {
   "cell_type": "code",
   "execution_count": null,
   "id": "44c8dfb3",
   "metadata": {},
   "outputs": [],
   "source": []
  }
 ],
 "metadata": {
  "kernelspec": {
   "display_name": "Python 3 (ipykernel)",
   "language": "python",
   "name": "python3"
  },
  "language_info": {
   "codemirror_mode": {
    "name": "ipython",
    "version": 3
   },
   "file_extension": ".py",
   "mimetype": "text/x-python",
   "name": "python",
   "nbconvert_exporter": "python",
   "pygments_lexer": "ipython3",
   "version": "3.11.6"
  }
 },
 "nbformat": 4,
 "nbformat_minor": 5
}
